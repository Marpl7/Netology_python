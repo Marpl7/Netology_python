{
 "cells": [
  {
   "cell_type": "markdown",
   "metadata": {},
   "source": [
    "**Задание 1**. Даны 2 строки: *long_phrase* и *short_phrase*. \n",
    "Напишите код, который проверяет действительно ли длинная фраза *long_phrase* длиннее короткой *short_phrase*. И выводит *True* или *False* в зависимости от результата сравнения."
   ]
  },
  {
   "cell_type": "code",
   "execution_count": 1,
   "metadata": {},
   "outputs": [],
   "source": [
    "long_phrase = 'Насколько проще было бы писать программы, если бы не заказчики'\n",
    "short_phrase = '640Кб должно хватить для любых задач. Билл Гейтс (по легенде)'"
   ]
  },
  {
   "cell_type": "code",
   "execution_count": 2,
   "metadata": {},
   "outputs": [
    {
     "data": {
      "text/plain": [
       "True"
      ]
     },
     "execution_count": 2,
     "metadata": {},
     "output_type": "execute_result"
    }
   ],
   "source": [
    "len(long_phrase) > len(short_phrase)"
   ]
  },
  {
   "cell_type": "markdown",
   "metadata": {},
   "source": [
    "**Задание 2**. Дано значение объема файла в байтах (*в мегабайте 2^20 байт*). Напишите перевод этого значения в мегабайты в формате: \"*Объем файла равен 213.68Mb*\"."
   ]
  },
  {
   "cell_type": "code",
   "execution_count": 20,
   "metadata": {},
   "outputs": [
    {
     "name": "stdout",
     "output_type": "stream",
     "text": [
      "Введите объем файла в байтах: 1024\n",
      "Объем файла равен 0.0 Mb\n"
     ]
    }
   ],
   "source": [
    "file_size_b = int(input('Введите объем файла в байтах: '))\n",
    "print('Объем файла равен', round(file_size_b/(2**20), 2),'Mb')"
   ]
  },
  {
   "cell_type": "markdown",
   "metadata": {},
   "source": [
    "**Задание 3**. Разработать приложение для определения знака зодиака по дате рождения. Пример:\n",
    "\n",
    "Введите месяц: март\n",
    "\n",
    "Введите число: 6\n",
    "\n",
    "Вывод:\n",
    "Рыбы"
   ]
  },
  {
   "cell_type": "code",
   "execution_count": 28,
   "metadata": {},
   "outputs": [
    {
     "name": "stdout",
     "output_type": "stream",
     "text": [
      "Введите месяц:декабрь\n",
      "Введите число:31\n",
      "Козерог\n"
     ]
    }
   ],
   "source": [
    "month = input('Введите месяц:')\n",
    "date = int(input('Введите число:'))\n",
    "\n",
    "if date >= 21 and month == 'январь' or date <= 18 and month == 'февраль':\n",
    "    print('Водолей')\n",
    "elif date >= 19 and month == 'февраль' or date <= 20 and month == 'март':\n",
    "    print('Рыбы')\n",
    "elif date >= 21 and month == 'март' or date <= 20 and month == 'апрель':\n",
    "    print('Овен')\n",
    "elif date >= 21 and month == 'апрель' or date <= 21 and month == 'май':\n",
    "    print('Телец')\n",
    "elif date >= 22 and month == 'мая' or date <= 21 and month == 'июнь':\n",
    "    print('Близнецы')\n",
    "elif date >= 22 and month == 'июнь' or date <= 22 and month == 'июль':\n",
    "    print('Рак')\n",
    "elif date >= 23 and month == 'июль' or date <= 23 and month == 'август':\n",
    "    print('Лев')\n",
    "elif date >= 24 and month == 'август' or date <= 23 and month == 'сентябрь':\n",
    "    print('Дева')\n",
    "elif date >= 24 and month == 'сентябрь' or date <= 23 and month == 'октябрь':\n",
    "    print('Весы')\n",
    "elif date >= 24 and month == 'октябрь' or date <= 22 and month == 'ноябрь':\n",
    "    print('Скорпион')\n",
    "elif date >= 23 and month == 'ноябрь' or date <= 21 and month == 'декабрь':\n",
    "    print('Стрелец')\n",
    "else:\n",
    "    print('Козерог')\n"
   ]
  },
  {
   "cell_type": "markdown",
   "metadata": {},
   "source": [
    "**Задание 4**. Нужно разработать приложение для финансового планирования.\n",
    "Приложение учитывает сколько уходит на ипотеку, \"на жизнь\" и сколько нужно отложить на пенсию.\n",
    "Пользователь вводит:\n",
    "- заработанную плату в месяц.\n",
    "- сколько процентов от ЗП уходит на ипотеку.\n",
    "- сколько процентов от ЗП уходит \"на жизнь\".\n",
    "- сколько раз приходит премия в год.\n",
    "\n",
    "Остальная часть заработанной платы откладывается на пенсию.\n",
    "\n",
    "Также пользователю приходит премия в размере зарплаты, от которой половина уходит на отпуск, а вторая половина откладывается.\n",
    "\n",
    "Программа должна учитывать сколько премий было в год.\n",
    "\n",
    "Нужно вывести сколько денег тратит пользователь на ипотеку и сколько он накопит за год.\n",
    "\n",
    "Пример:\n",
    "\n",
    "Введите заработанную плату в месяц: 100000\n",
    "\n",
    "Введите сколько процентов уходит на ипотеку: 30\n",
    "\n",
    "Введите сколько процентов уходит на жизнь: 50\n",
    "\n",
    "Введите количество премий за год: 2\n",
    "\n",
    "Вывод:\n",
    "На ипотеку было потрачено: 360000 рублей\n",
    "Было накоплено: 340000 рублей"
   ]
  },
  {
   "cell_type": "code",
   "execution_count": 32,
   "metadata": {},
   "outputs": [
    {
     "name": "stdout",
     "output_type": "stream",
     "text": [
      "Введите заработанную плату в месяц:100000\n",
      "Введите сколько процентов уходит на ипотеку:30\n",
      "Введите сколько процентов уходит на жизнь:50\n",
      "Введите кличество премий в год:2\n",
      "Вывод:\n",
      "На ипотеку было потрачено: 360000.0 рублей\n",
      "Было накоплено: 340000 рублей\n"
     ]
    }
   ],
   "source": [
    "salary = int(input('Введите заработанную плату в месяц: '))\n",
    "morgage = int(input('Введите сколько процентов уходит на ипотеку: '))\n",
    "life = int(input('Введите сколько процентов уходит на жизнь: '))\n",
    "bonus = int(input('Введите кличество премий в год: '))\n",
    "print('Вывод:')\n",
    "print('На ипотеку было потрачено:', int(salary*12*morgage/100), 'рублей')\n",
    "print('Было накоплено:', int(salary*12*(100 - morgage - life)/100 + salary*bonus*0.5),'рублей')"
   ]
  }
 ],
 "metadata": {
  "kernelspec": {
   "display_name": "Python 3",
   "language": "python",
   "name": "python3"
  },
  "language_info": {
   "codemirror_mode": {
    "name": "ipython",
    "version": 3
   },
   "file_extension": ".py",
   "mimetype": "text/x-python",
   "name": "python",
   "nbconvert_exporter": "python",
   "pygments_lexer": "ipython3",
   "version": "3.7.6"
  }
 },
 "nbformat": 4,
 "nbformat_minor": 2
}
