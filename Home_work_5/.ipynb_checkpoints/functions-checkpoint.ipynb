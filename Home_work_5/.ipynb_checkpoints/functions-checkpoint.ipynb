{
 "cells": [
  {
   "cell_type": "markdown",
   "metadata": {},
   "source": [
    "Вы работаете секретарем и вам постоянно приходят различные документы. Вы должны быть очень внимательны, чтобы не потерять ни один документ. Каталог документов хранится в следующем виде:"
   ]
  },
  {
   "cell_type": "code",
   "execution_count": 1,
   "metadata": {},
   "outputs": [],
   "source": [
    "documents = [\n",
    "    {'type': 'passport', 'number': '2207 876234', 'name': 'Василий Гупкин'},\n",
    "    {'type': 'invoice', 'number': '11-2', 'name': 'Геннадий Покемонов'},\n",
    "    {'type': 'insurance', 'number': '10006', 'name': 'Аристарх Павлов'}\n",
    "]"
   ]
  },
  {
   "cell_type": "markdown",
   "metadata": {},
   "source": [
    "Перечень полок, на которых находятся документы хранится в следующем виде:"
   ]
  },
  {
   "cell_type": "code",
   "execution_count": 2,
   "metadata": {},
   "outputs": [],
   "source": [
    "directories = {\n",
    "    '1': ['2207 876234', '11-2'],\n",
    "    '2': ['10006'],\n",
    "    '3': []\n",
    "}"
   ]
  },
  {
   "cell_type": "markdown",
   "metadata": {},
   "source": [
    "Необходимо реализовать пользовательские команды (внимание! это не название функций, которые должны быть выразительными, а команды, которые вводит пользователь, чтобы получить необходимый результат):\n",
    "  \n",
    "- p – people – команда, которая спросит номер документа и выведет имя человека, которому он принадлежит;  \n",
    "- s – shelf – команда, которая спросит номер документа и выведет номер полки, на которой он находится  \n",
    "*Правильно обработайте ситуации, когда пользователь будет вводить несуществующий документ*.\n",
    "- l – list – команда, которая выведет список всех документов в формате   \n",
    "**passport \"2207 876234\" \"Василий Гупкин\"**  \n",
    "- as – add shelf – команда, которая спросит номер новой полки и добавит ее в перечень. *Предусмотрите случай, когда пользователь добавляет полку, которая уже существует*.\n",
    "- d – delete – команда, которая спросит номер документа и удалит его из каталога и из перечня полок. *Предусмотрите сценарий, когда пользователь вводит несуществующий документ*;  \n",
    "- m – move – команда, которая спросит номер документа и целевую полку и переместит его с текущей полки на целевую. *Корректно обработайте кейсы, когда пользователь пытается переместить несуществующий документ или переместить документ на несуществующую полку*;  \n",
    "- a – add – команда, которая добавит новый документ в каталог и в перечень полок, спросив его номер, тип, имя владельца и номер полки, на котором он будет храниться. *Корректно обработайте ситуацию, когда пользователь будет пытаться добавить документ на несуществующую полку*."
   ]
  },
  {
   "cell_type": "code",
   "execution_count": 3,
   "metadata": {},
   "outputs": [],
   "source": [
    "def find_person ():\n",
    "    doc_number = input('Введите номер документа: ')\n",
    "    count = 0\n",
    "    for doc in documents:\n",
    "        if doc['number'] == doc_number:\n",
    "            print(doc['name'])\n",
    "#             return doc['type'], doc['number'], doc['name']\n",
    "            break\n",
    "        else:\n",
    "            count = count + 1  \n",
    "        if count == len(documents):\n",
    "            print('Nothing found, try again')  "
   ]
  },
  {
   "cell_type": "code",
   "execution_count": 4,
   "metadata": {},
   "outputs": [],
   "source": [
    "def people():\n",
    "    find_person()"
   ]
  },
  {
   "cell_type": "code",
   "execution_count": null,
   "metadata": {},
   "outputs": [],
   "source": [
    "people()"
   ]
  },
  {
   "cell_type": "code",
   "execution_count": 5,
   "metadata": {},
   "outputs": [],
   "source": [
    "def find_shelf (doc_number):\n",
    "#     doc_number = input('Введите номер документа: ')\n",
    "    count = 0\n",
    "    for shelf, docs in directories.items():\n",
    "        for num in docs:\n",
    "            if num == doc_number:\n",
    "#                 print(shelf)\n",
    "                return shelf\n",
    "                break\n",
    "            else:\n",
    "                count = count + 1  \n",
    "#             if count == len(directories):\n",
    "#                 print('Nothing found, try again') "
   ]
  },
  {
   "cell_type": "code",
   "execution_count": null,
   "metadata": {},
   "outputs": [],
   "source": [
    "find_shelf(12)"
   ]
  },
  {
   "cell_type": "code",
   "execution_count": 6,
   "metadata": {},
   "outputs": [],
   "source": [
    "def shelf ():\n",
    "    doc_number = input('Введите номер документа: ')\n",
    "    \n",
    "    shelf = find_shelf(doc_number)\n",
    "    if shelf != None:\n",
    "        print(f'Документ находится на полке {shelf}')\n",
    "    else:\n",
    "        print(f'Документ не найден')"
   ]
  },
  {
   "cell_type": "code",
   "execution_count": null,
   "metadata": {},
   "outputs": [],
   "source": [
    "shelf()"
   ]
  },
  {
   "cell_type": "code",
   "execution_count": 7,
   "metadata": {},
   "outputs": [],
   "source": [
    "def list_ ():\n",
    "    for doc in documents:\n",
    "        print(doc['type'], end= ' ')\n",
    "        print('\"', doc['number'], '\"', sep= \"\", end= \" \")\n",
    "        print('\"', doc['name'], '\"', sep= \"\")\n"
   ]
  },
  {
   "cell_type": "code",
   "execution_count": null,
   "metadata": {},
   "outputs": [],
   "source": [
    "list_()"
   ]
  },
  {
   "cell_type": "code",
   "execution_count": 8,
   "metadata": {},
   "outputs": [],
   "source": [
    "def add__shelf (shelf_number):\n",
    "    count = 0\n",
    "    #shelf_number = input('Введите номер полки: ')\n",
    "    for shelf in directories:\n",
    "        count = count + 1\n",
    "        if shelf == shelf_number:\n",
    "            print('Такая полка уже есть :(')\n",
    "            break\n",
    "        elif count == len(directories):\n",
    "            directories[shelf_number] = []\n",
    "            print(f'Полка {shelf_number} добавлена')\n",
    "            break"
   ]
  },
  {
   "cell_type": "code",
   "execution_count": 9,
   "metadata": {},
   "outputs": [],
   "source": [
    "def add_shelf ():\n",
    "    shelf_number = input('Введите номер полки: ')\n",
    "    add__shelf(shelf_number)"
   ]
  },
  {
   "cell_type": "code",
   "execution_count": null,
   "metadata": {},
   "outputs": [],
   "source": [
    "add_shelf()"
   ]
  },
  {
   "cell_type": "code",
   "execution_count": 10,
   "metadata": {},
   "outputs": [],
   "source": [
    "def delete ():\n",
    "    doc_number = input('Введите номер документа: ')\n",
    "    shelf_number = find_shelf(doc_number)\n",
    "    while (True):\n",
    "        if shelf_number == None:\n",
    "            print('Document is not found')\n",
    "            break\n",
    "        else:\n",
    "            directories[shelf_number].remove(doc_number)\n",
    "            for doc in documents:\n",
    "                if doc['number'] == doc_number or None:\n",
    "                    documents.remove(doc)\n",
    "                    break\n",
    "            break"
   ]
  },
  {
   "cell_type": "code",
   "execution_count": null,
   "metadata": {},
   "outputs": [],
   "source": [
    "delete()\n",
    "list_()"
   ]
  },
  {
   "cell_type": "code",
   "execution_count": 15,
   "metadata": {},
   "outputs": [],
   "source": [
    "def move ():\n",
    "    doc_number = input('Введите номер документа: ')\n",
    "    shelf_number = input('Укажите номер полки: ')\n",
    "    flag = 0\n",
    "\n",
    "    current_shelf = find_shelf(doc_number)\n",
    "\n",
    "    for shelf in directories.keys():\n",
    "        if shelf == shelf_number:\n",
    "            flag = 1\n",
    "\n",
    "    if current_shelf == shelf_number:\n",
    "        print('Документ уже на ходится на выбранной полке')\n",
    "    elif current_shelf == None:\n",
    "        print('Документ не найден')\n",
    "    elif flag == 0:\n",
    "        print('Полки с таким номером нет. Добавить?')\n",
    "        add_shelf()\n",
    "        directories[shelf_number].append(doc_number)\n",
    "        directories[current_shelf].remove(doc_number)\n",
    "        print(f'Документ успешно перемещен на полку {shelf_number}')\n",
    "\n",
    "    else:\n",
    "        directories[shelf_number].append(doc_number)\n",
    "        directories[current_shelf].remove(doc_number)\n",
    "        print(f'Документ успешно перемещен на полку {shelf_number}')\n"
   ]
  },
  {
   "cell_type": "code",
   "execution_count": 17,
   "metadata": {},
   "outputs": [
    {
     "name": "stdout",
     "output_type": "stream",
     "text": [
      "Введите номер документа: 10006\n",
      "Укажите номер полки: 3\n",
      "Документ успешно перемещен на полку 3\n"
     ]
    }
   ],
   "source": [
    "move()"
   ]
  },
  {
   "cell_type": "code",
   "execution_count": 12,
   "metadata": {},
   "outputs": [],
   "source": [
    "def add ():\n",
    "    doc_number = input('Введите номер документа: ')\n",
    "    doc_type =  input('Введите тип документа: ')\n",
    "    doc_name = input('Введите имя влядельца: ')\n",
    "    shelf_number = input('Укажите номер полки: ')\n",
    "\n",
    "    docs_to_add = {'type': doc_type, 'number': doc_number, 'name': doc_name}\n",
    "\n",
    "    flag = 0\n",
    "\n",
    "    for docs in documents:\n",
    "        if docs['number'] == doc_number:\n",
    "            flag = 1\n",
    "            print(f'Документ с номером {doc_number} уже существует')\n",
    "            break\n",
    "\n",
    "    count = 0         \n",
    "    if flag == 0:          \n",
    "        for shelf in directories.keys():\n",
    "            count = count + 1\n",
    "            if shelf_number == shelf:\n",
    "                directories[shelf_number].append(doc_number)\n",
    "                documents.append(docs_to_add)\n",
    "                print(f'Документ успешно добавлен в каталог и размещен на полке {shelf_number}')\n",
    "                break\n",
    "            elif count == len(documents):\n",
    "                print('Полки с таким номером нет. Добавить?')\n",
    "                add_shelf()\n",
    "                directories[shelf_number].append(doc_number)\n",
    "                documents.append(docs_to_add)\n",
    "                print(f'Документ успешно добавлен в каталог и размещен на полке {shelf_number}')\n",
    "                break\n"
   ]
  },
  {
   "cell_type": "code",
   "execution_count": null,
   "metadata": {},
   "outputs": [],
   "source": [
    "add()"
   ]
  },
  {
   "cell_type": "code",
   "execution_count": 13,
   "metadata": {},
   "outputs": [],
   "source": [
    "people()\n",
    "shelf()\n",
    "list()\n",
    "add_shelf()\n",
    "delete()\n",
    "move()\n",
    "add()"
   ]
  },
  {
   "cell_type": "code",
   "execution_count": null,
   "metadata": {},
   "outputs": [],
   "source": []
  }
 ],
 "metadata": {
  "kernelspec": {
   "display_name": "Python 3",
   "language": "python",
   "name": "python3"
  },
  "language_info": {
   "codemirror_mode": {
    "name": "ipython",
    "version": 3
   },
   "file_extension": ".py",
   "mimetype": "text/x-python",
   "name": "python",
   "nbconvert_exporter": "python",
   "pygments_lexer": "ipython3",
   "version": "3.7.6"
  }
 },
 "nbformat": 4,
 "nbformat_minor": 2
}
