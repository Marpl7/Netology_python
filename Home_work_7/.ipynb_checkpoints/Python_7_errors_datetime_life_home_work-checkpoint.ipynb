{
 "cells": [
  {
   "cell_type": "markdown",
   "metadata": {},
   "source": [
    "Задание 1\n",
    "Печатные газеты использовали свой формат дат для каждого выпуска. Для каждой газеты из списка напишите формат указанной даты для перевода в объект datetime:\n",
    "The Moscow Times - Wednesday, October 2, 2002\n",
    "The Guardian - Friday, 11.10.13\n",
    "Daily News - Thursday, 18 August 1977\n"
   ]
  },
  {
   "cell_type": "code",
   "execution_count": 1,
   "metadata": {},
   "outputs": [],
   "source": [
    "from datetime import datetime \n",
    "\n",
    "The_Moscow_Times = 'Wednesday, October 2, 2002'\n",
    "The_Guardian = 'Friday, 11.10.13'\n",
    "Daily_News = 'Thursday, 18 August 1977'\n",
    "\n",
    "\n",
    "The_Moscow_Times_date = datetime.strptime(The_Moscow_Times, '%A, %B %d, %Y')\n",
    "The_Guardian_date = datetime.strptime(The_Guardian, '%A, %d.%m.%y')\n",
    "Daily_News_date = datetime.strptime(Daily_News, '%A, %d %B %Y')\n"
   ]
  },
  {
   "cell_type": "markdown",
   "metadata": {},
   "source": [
    "Задание 2\n",
    "Дан поток дат в формате YYYY-MM-DD, в которых встречаются некорректные значения:\n",
    "stream = ['2018-04-02', '2018-02-29', '2018-19-02']\n",
    "\n",
    "Напишите функцию, которая проверяет эти даты на корректность. Т. е. для каждой даты возвращает True (дата корректна) или False (некорректная дата). \n",
    "\n"
   ]
  },
  {
   "cell_type": "code",
   "execution_count": 2,
   "metadata": {
    "scrolled": true
   },
   "outputs": [
    {
     "name": "stdout",
     "output_type": "stream",
     "text": [
      "True\n",
      "False\n",
      "False\n"
     ]
    }
   ],
   "source": [
    "stream = ['2018-04-02', '2018-02-29', '2018-19-02']\n",
    "\n",
    "def check_date (date):\n",
    "    \n",
    "    try:\n",
    "        date_datetime = datetime.strptime( date, '%Y-%m-%d' )\n",
    "        return True\n",
    "    except:\n",
    "        return False\n",
    "    \n",
    "for date in stream:\n",
    "    print(check_date(date))\n"
   ]
  },
  {
   "cell_type": "markdown",
   "metadata": {},
   "source": [
    "Задание 3\n",
    "Напишите функцию date_range, которая возвращает список дат за период от start_date до end_date. Даты должны вводиться в формате YYYY-MM-DD. В случае неверного формата или при start_date > end_date должен возвращаться пустой список.\n"
   ]
  },
  {
   "cell_type": "code",
   "execution_count": 3,
   "metadata": {},
   "outputs": [
    {
     "name": "stdout",
     "output_type": "stream",
     "text": [
      "Введите начальную дату в формате YYYY-MM-DD: 2002-12-12\n",
      "Введите конечную дату в формате YYYY-MM-DD: 2002-12-15\n"
     ]
    },
    {
     "data": {
      "text/plain": [
       "['2002-12-12', '2002-12-13', '2002-12-14', '2002-12-15']"
      ]
     },
     "execution_count": 3,
     "metadata": {},
     "output_type": "execute_result"
    }
   ],
   "source": [
    "def date_range():\n",
    "    from datetime import datetime, timedelta\n",
    "\n",
    "    start_date = input('Введите начальную дату в формате YYYY-MM-DD: ')\n",
    "    end_date = input('Введите конечную дату в формате YYYY-MM-DD: ')\n",
    "\n",
    "    date_range = []\n",
    "\n",
    "    if check_date(start_date) == False or check_date(end_date) == False or start_date > end_date:\n",
    "        return date_range\n",
    "    else:\n",
    "        while start_date <= end_date:\n",
    "            date_range.append(start_date)\n",
    "            start_date = datetime.strptime(start_date, '%Y-%m-%d')\n",
    "            start_date += timedelta(days=1)\n",
    "            start_date = start_date.strftime('%Y-%m-%d')\n",
    "    return date_range\n",
    "\n",
    "date_range()"
   ]
  },
  {
   "cell_type": "markdown",
   "metadata": {},
   "source": [
    "Задание 4 (бонусное)\n",
    "Ваш коллега прислал код функции:\n",
    "\n",
    "DEFAULT_USER_COUNT = 3\n",
    "\n",
    "def delete_and_return_last_user(region, default_list=['A100', 'A101', 'A102']):\n",
    "    \"\"\"\n",
    "    Удаляет из списка default_list последнего пользователя \n",
    "    и возвращает ID нового последнего пользователя.\n",
    "    \"\"\"\n",
    "    element_to_delete = default_list[-1]\n",
    "    default_list.remove(element_to_delete)\n",
    "    \n",
    "    return default_list[DEFAULT_USER_COUNT-2]\n",
    "\n",
    "При однократном вызове этой функции все работает корректно:\n",
    "delete_and_return_last_user(1)\n",
    "'A101'\n",
    "\n",
    "Однако, при повторном вызове получается ошибка IndexError: list index out of range.\n",
    "\n",
    "Задание:\n",
    "1. Что значит ошибка list index out of range?\n",
    "2. Почему при первом запуске функция работает корректно, а при втором - нет?\n"
   ]
  },
  {
   "cell_type": "markdown",
   "metadata": {},
   "source": [
    "1. Что значит ошибка list index out of range?\n",
    "Ошибка \"list index out of range\" означает, что индекс не входит в диапозон элементов, те у нас, например, 2 элемента в списке (индексы 0 и 1), а мы обращаемся к элементу с индексом 2, но его там просто нет.\n",
    "2. Почему при первом запуске функция работает корректно, а при втором - нет?\n",
    "DEFAULT_USER_COUNT =3 фиксированное число, после первго запуска дожно было поменяться на 2, тк одного пользователя уже удалили"
   ]
  },
  {
   "cell_type": "code",
   "execution_count": 4,
   "metadata": {},
   "outputs": [
    {
     "name": "stdout",
     "output_type": "stream",
     "text": [
      "в списке остался последний пользователь A100\n"
     ]
    }
   ],
   "source": [
    "def delete_and_return_last_user(region, default_list=['A100', 'A101', 'A102']):\n",
    "    \"\"\"\n",
    "    Удаляет из списка default_list последнего пользователя \n",
    "    и возвращает ID нового последнего пользователя.\n",
    "    \"\"\"\n",
    "    DEFAULT_USER_COUNT = len(default_list)\n",
    "    if (DEFAULT_USER_COUNT-2) >= 0:\n",
    "        element_to_delete = default_list[-1]\n",
    "        default_list.remove(element_to_delete)\n",
    "        return default_list[DEFAULT_USER_COUNT-2]\n",
    "    else:\n",
    "        print(f'в списке остался последний пользователь {default_list[-1]}')\n",
    "        \n",
    "\n",
    "# При однократном вызове этой функции все работает корректно:\n",
    "delete_and_return_last_user(1)\n",
    "delete_and_return_last_user(1)\n",
    "delete_and_return_last_user(1)\n",
    "\n"
   ]
  }
 ],
 "metadata": {
  "kernelspec": {
   "display_name": "Python 3",
   "language": "python",
   "name": "python3"
  },
  "language_info": {
   "codemirror_mode": {
    "name": "ipython",
    "version": 3
   },
   "file_extension": ".py",
   "mimetype": "text/x-python",
   "name": "python",
   "nbconvert_exporter": "python",
   "pygments_lexer": "ipython3",
   "version": "3.7.6"
  }
 },
 "nbformat": 4,
 "nbformat_minor": 4
}
