{
 "cells": [
  {
   "cell_type": "code",
   "execution_count": 1,
   "metadata": {},
   "outputs": [],
   "source": [
    "import numpy as np"
   ]
  },
  {
   "cell_type": "code",
   "execution_count": 206,
   "metadata": {},
   "outputs": [
    {
     "name": "stdout",
     "output_type": "stream",
     "text": [
      "Попыток 1000\n",
      "Удачных 117\n",
      "Выигрыш 1227\n",
      "Потрачено всего -1000\n",
      "Средний выигрыш за одну игру 0.227\n",
      "Теоретический средний выигрыш -0.15500000000000003\n"
     ]
    }
   ],
   "source": [
    "trials = 1000    # Количество попыток\n",
    "successes = 0    # Количество успехов\n",
    "gain = 0         #выигрыш\n",
    "loss = 0        #проигрыш\n",
    "\n",
    "for i in range(trials):\n",
    "    random_score = np.random.randint(0, 1000)# Случайное число от 1 до 999\n",
    "    #print(random_score)\n",
    "    if random_score == 777:\n",
    "        successes += 1\n",
    "        gain += 200\n",
    "        loss += -1\n",
    "    elif random_score == 999:\n",
    "        successes += 1\n",
    "        gain += 100\n",
    "        loss += -1\n",
    "    elif random_score == 555:\n",
    "        successes += 1\n",
    "        gain += 50\n",
    "        loss += -1\n",
    "    elif random_score == 333:\n",
    "        successes += 1\n",
    "        gain += 15\n",
    "        loss += -1\n",
    "    elif random_score == 111:\n",
    "        successes += 1\n",
    "        gain += 10\n",
    "        loss += -1\n",
    "    elif random_score == 77:\n",
    "        successes += 1\n",
    "        gain += 5\n",
    "        loss += -1\n",
    "    elif random_score%10 == 7:\n",
    "        successes += 1\n",
    "        gain += 3\n",
    "        loss += -1\n",
    "    elif random_score%100 == 0 or random_score == 0:\n",
    "        successes += 1\n",
    "        gain += 2\n",
    "        loss += -1\n",
    "    elif random_score%100 == 0 and random_score%10 != 0 or random_score == 0:\n",
    "        successes += 1\n",
    "        gain += 1\n",
    "        loss += -1\n",
    "    else:\n",
    "        loss += -1\n",
    "       \n",
    "everage_loss = (gain + loss)/trials\n",
    "experemental_gain_probablity = successes/trials\n",
    "\n",
    "gain_probability = (1 + 1 + 1 + 1 + 1 + 10 + 100 + 10 + 100)/trials\n",
    "everage_gain = (200 + 100 + 50 + 15 + 10 + 50 + 300 + 20 + 100)/trials -1\n",
    "\n",
    "print('Попыток', trials)\n",
    "print('Удачных', successes)\n",
    "print('Выигрыш', gain)\n",
    "print('Потрачено всего', loss)\n",
    "print('Средний выигрыш за одну игру',everage_loss)\n",
    "\n",
    "print('Теоретический средний выигрыш',everage_gain)\n"
   ]
  }
 ],
 "metadata": {
  "kernelspec": {
   "display_name": "Python 3",
   "language": "python",
   "name": "python3"
  },
  "language_info": {
   "codemirror_mode": {
    "name": "ipython",
    "version": 3
   },
   "file_extension": ".py",
   "mimetype": "text/x-python",
   "name": "python",
   "nbconvert_exporter": "python",
   "pygments_lexer": "ipython3",
   "version": "3.7.6"
  }
 },
 "nbformat": 4,
 "nbformat_minor": 4
}
